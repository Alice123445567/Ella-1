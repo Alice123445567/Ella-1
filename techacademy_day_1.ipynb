{
  "nbformat": 4,
  "nbformat_minor": 0,
  "metadata": {
    "colab": {
      "name": "techacademy day 1",
      "provenance": [],
      "authorship_tag": "ABX9TyNlzB6DJgWPuBSaTRjkFEDA"
    },
    "kernelspec": {
      "name": "python3",
      "display_name": "Python 3"
    }
  },
  "cells": [
    {
      "cell_type": "code",
      "metadata": {
        "id": "0jjPTVj9R8Jw",
        "colab_type": "code",
        "colab": {}
      },
      "source": [
        "hey i rpinted "
      ],
      "execution_count": 0,
      "outputs": []
    }
  ]
}